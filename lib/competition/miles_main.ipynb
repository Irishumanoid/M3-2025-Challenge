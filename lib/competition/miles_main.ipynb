{
 "cells": [
  {
   "cell_type": "code",
   "execution_count": 77,
   "metadata": {},
   "outputs": [],
   "source": [
    "from miles_lib import *\n",
    "import pandas as pd\n",
    "import os"
   ]
  },
  {
   "cell_type": "code",
   "execution_count": 78,
   "metadata": {},
   "outputs": [],
   "source": [
    "seed = 0"
   ]
  },
  {
   "cell_type": "code",
   "execution_count": null,
   "metadata": {},
   "outputs": [
    {
     "name": "stdout",
     "output_type": "stream",
     "text": [
      "/Users/milescaprio/Library/CloudStorage/OneDrive-Personal/Documents/M3Challenge/Repo/lib/competition\n",
      "0    2.883316\n",
      "1    2.410781\n",
      "2    2.815614\n",
      "3    2.672951\n",
      "4    2.842008\n",
      "Name: household_pop_density, dtype: float64\n",
      "0    115478\n",
      "1     75719\n",
      "2    135946\n",
      "3     89627\n",
      "4    150847\n",
      "Name: Median.household.income..in.US.dollars..y, dtype: int64\n",
      "   Unnamed: 0    ZIP  Under.5  X.5...9  X.10...14  X15.19  X20.24  X25.29  \\\n",
      "0           1  38103      323      177        184     367    1574    2782   \n",
      "1           2  38002     2570     3419       3972    3753    2179    1762   \n",
      "2           3  38017      535      579        658     674     740     763   \n",
      "3           4  38016     2992     2792       3075    3172    3383    3697   \n",
      "4           5  38018     2193     2114       2358    2402    2550    2789   \n",
      "\n",
      "   X30.34  X35.39  ...  X65.69  X70.74  X75.79  X80.84  X85.Plus   X  X.1  \\\n",
      "0    2111    1620  ...     578     382     179      77        73 NaN  NaN   \n",
      "1    2437    3261  ...    1933    1568     932     568       390 NaN  NaN   \n",
      "2     758     774  ...     883     860     907     905       759 NaN  NaN   \n",
      "3    3697    3689  ...    2274    1799    1046     641       537 NaN  NaN   \n",
      "4    2790    2556  ...    1976    1382     756     464       437 NaN  NaN   \n",
      "\n",
      "   total_population  proportion_between_65_80  proportion_over_80  \n",
      "0             14739                  0.077278            0.010177  \n",
      "1             44385                  0.099876            0.021584  \n",
      "2             13902                  0.190620            0.119695  \n",
      "3             48322                  0.105935            0.024378  \n",
      "4             37086                  0.110931            0.024295  \n",
      "\n",
      "[5 rows x 25 columns]\n",
      "   proportion_wfh  proportion_public  proportion_drive\n",
      "0        0.136837           0.003010          0.860153\n",
      "1        0.104831           0.005489          0.889680\n",
      "2        0.192801           0.002349          0.804850\n",
      "3        0.126993           0.004979          0.868028\n",
      "4        0.094323           0.002620          0.903057\n",
      "   house1_proportion  house2_proportion  house3_proportion  house4_proportion\n",
      "0           0.467629           0.032371           0.032371           0.467629\n",
      "1           0.322121           0.177879           0.177879           0.322121\n",
      "2           0.421957           0.078043           0.078043           0.421957\n",
      "3           0.404780           0.095220           0.095220           0.404780\n",
      "4           0.500000           0.000000           0.000000           0.500000\n"
     ]
    }
   ],
   "source": [
    "print(os.getcwd())\n",
    "\n",
    "memphis_data = pd.read_csv('MemphisData.csv')\n",
    "memphis_age_data = pd.read_csv('ZipCodePopAgeBreakdown.csv')\n",
    "#print(memphis_data.head())\n",
    "\n",
    "#memphis_working_data\n",
    "#memphis_car_data\n",
    "\n",
    "zip_codes = memphis_data['ZIP.code'].tolist()\n",
    "\n",
    "#Get household proportion per zip\n",
    "pop_density_per_household = memphis_data['household_pop_density']\n",
    "print(pop_density_per_household.head())\n",
    "\n",
    "#Get household income per zip\n",
    "median_incomes = memphis_data['Median.household.income..in.US.dollars..y']\n",
    "print(median_incomes.head())\n",
    "\n",
    "#Get age distribution per zip\n",
    "corresponding_age_ranges = [[0,5], [5,10], [10,15], [15,20], [20,25], [25,30], [30,35], [35,40], [40,45], [45,50], [50,55], [55,60], [60,65], [65,70], [70,75], [75,80], [80,85], [85,200]]\n",
    "proportion_each_age = memphis_age_data[[\"Under.5\", \"X.5...9\", \"X.10...14\", \"X15.19\", \"X20.24\", \"X25.29\", \n",
    "                                        \"X30.34\", \"X35.39\", \"X40.44\", \"X45.49\", \"X50.54\", \"X55.59\",\n",
    "                                        \"X60.64\", \"X65.69\", \"X70.74\", \"X75.79\", \"X80.84\", \"X85.Plus\"]]\n",
    "print(memphis_age_data.head())\n",
    "\n",
    "#Get commute distribution per zip\n",
    "proportion_each_commute = memphis_data[[\"proportion_wfh\", \"proportion_public\", \"proportion_drive\"]]\n",
    "print(proportion_each_commute.head())\n",
    "\n",
    "#Get house type distribution per zip\n",
    "proportion_each_house_type = memphis_data[[\"house1_proportion\", \"house2_proportion\", \"house3_proportion\", \"house4_proportion\"]]\n",
    "print(proportion_each_house_type.head())\n",
    "\n",
    "#Get \n",
    "\n",
    "#Get working travel distribution per zip\n",
    "\n",
    "#Get household size per house type"
   ]
  },
  {
   "cell_type": "code",
   "execution_count": 88,
   "metadata": {},
   "outputs": [
    {
     "name": "stdout",
     "output_type": "stream",
     "text": [
      "Index: 14\n",
      "house1\n",
      "House Size\n",
      "Household Commute Type: car\n",
      "Household Income Type: 52806\n",
      "House Has Car?: \n",
      "Ages: [[20, 25], [25, 30], [60, 65]]\n",
      "Are Working:\n"
     ]
    }
   ],
   "source": [
    "def get_samples_for_house(zip):\n",
    "    i = zip_codes.index(zip)\n",
    "    print(\"Index:\", i)\n",
    "    \n",
    "    house1prop = proportion_each_house_type.iloc[i, 0]\n",
    "    house2prop = proportion_each_house_type.iloc[i, 1]\n",
    "    house3prop = proportion_each_house_type.iloc[i, 2]\n",
    "    house4prop = proportion_each_house_type.iloc[i, 3]\n",
    "    #print(house1prop, house2prop, house3prop, house4prop)\n",
    "    \n",
    "    house_type = sample_house_type(house1prop, house2prop, house3prop, house4prop)\n",
    "    print(house_type)\n",
    "    \n",
    "    house_size = sample_house_size(house_type)\n",
    "    print(\"House Size\")#, house_size)\n",
    "    \n",
    "    shade = shade_temp_amount(house_type)\n",
    "    \n",
    "    wfhprop = proportion_each_commute.iloc[i, 0]\n",
    "    publicprop = proportion_each_commute.iloc[i, 1]\n",
    "    driveprop = proportion_each_commute.iloc[i, 2]\n",
    "    #print(wfhprop, publicprop, driveprop)\n",
    "    \n",
    "    commute_type = sample_commute_type(wfhprop, publicprop, driveprop)\n",
    "    print(\"Household Commute Type:\", commute_type)\n",
    "    \n",
    "    hhincome = median_incomes[i]\n",
    "    print(\"Household Income Type:\", hhincome)\n",
    "    \n",
    "    has_car = [False]\n",
    "    print(\"House Has Car?: \")\n",
    "    \n",
    "    age_categories = []\n",
    "    are_working = [True]\n",
    "    #To finish: temps based on schedule and age risk\n",
    "    for j in range(house_size):\n",
    "        age_category = sample_age_category(\n",
    "            normalize_probabilities(proportion_each_age.iloc[i]),\n",
    "            corresponding_age_ranges\n",
    "        )\n",
    "        #print(proportion_each_age.iloc[i])\n",
    "        age_categories.append(age_category)\n",
    "    print(\"Ages:\", age_categories)\n",
    "    print(\"Are Working:\")\n",
    "    \n",
    "    return [house_size, house_type, shade, commute_type, hhincome, age_categories, has_car, are_working]\n",
    "    \n",
    "samps = get_samples_for_house(38111)"
   ]
  },
  {
   "cell_type": "code",
   "execution_count": 90,
   "metadata": {},
   "outputs": [
    {
     "ename": "TypeError",
     "evalue": "unsupported operand type(s) for -: 'int' and 'NoneType'",
     "output_type": "error",
     "traceback": [
      "\u001b[0;31m---------------------------------------------------------------------------\u001b[0m",
      "\u001b[0;31mTypeError\u001b[0m                                 Traceback (most recent call last)",
      "Cell \u001b[0;32mIn[90], line 10\u001b[0m\n\u001b[1;32m      7\u001b[0m     heat_danger \u001b[38;5;241m=\u001b[39m heat_danger_continuous(heatIndex(temp, relative_humidity))\n\u001b[1;32m      8\u001b[0m     \u001b[38;5;66;03m#return age_risk(age_category) * demographic_restorative_coefficient(hhincome) * integral of heat_danger_continuous(heatIndex(temp, relative_humidity))\u001b[39;00m\n\u001b[0;32m---> 10\u001b[0m solve_PHOV(samps[\u001b[38;5;241m1\u001b[39m], samps[\u001b[38;5;241m3\u001b[39m], samps[\u001b[38;5;241m4\u001b[39m], samps[\u001b[38;5;241m6\u001b[39m], samps[\u001b[38;5;241m5\u001b[39m][\u001b[38;5;241m0\u001b[39m], samps[\u001b[38;5;241m7\u001b[39m][\u001b[38;5;241m0\u001b[39m])\n",
      "Cell \u001b[0;32mIn[90], line 6\u001b[0m, in \u001b[0;36msolve_PHOV\u001b[0;34m(house_type, commute_type, hhincome, hascar, age_category, is_working)\u001b[0m\n\u001b[1;32m      1\u001b[0m \u001b[38;5;28;01mdef\u001b[39;00m \u001b[38;5;21msolve_PHOV\u001b[39m(house_type, commute_type, hhincome, hascar, age_category, is_working):\n\u001b[1;32m      2\u001b[0m     schedule_temp \u001b[38;5;241m=\u001b[39m schedule_temp_data_by_person(\n\u001b[1;32m      3\u001b[0m         commute_type, \n\u001b[1;32m      4\u001b[0m         inside_temp_data\u001b[38;5;241m=\u001b[39minside_temp_data(house_type),\n\u001b[1;32m      5\u001b[0m     )\n\u001b[0;32m----> 6\u001b[0m     temp \u001b[38;5;241m=\u001b[39m vectorize_min(schedule_temp, temp_outside \u001b[38;5;241m-\u001b[39m shade_temp_amount(house_type))\n\u001b[1;32m      7\u001b[0m     heat_danger \u001b[38;5;241m=\u001b[39m heat_danger_continuous(heatIndex(temp, relative_humidity))\n",
      "File \u001b[0;32m/opt/anaconda3/lib/python3.12/site-packages/pandas/core/ops/common.py:76\u001b[0m, in \u001b[0;36m_unpack_zerodim_and_defer.<locals>.new_method\u001b[0;34m(self, other)\u001b[0m\n\u001b[1;32m     72\u001b[0m             \u001b[38;5;28;01mreturn\u001b[39;00m \u001b[38;5;28mNotImplemented\u001b[39m\n\u001b[1;32m     74\u001b[0m other \u001b[38;5;241m=\u001b[39m item_from_zerodim(other)\n\u001b[0;32m---> 76\u001b[0m \u001b[38;5;28;01mreturn\u001b[39;00m method(\u001b[38;5;28mself\u001b[39m, other)\n",
      "File \u001b[0;32m/opt/anaconda3/lib/python3.12/site-packages/pandas/core/arraylike.py:194\u001b[0m, in \u001b[0;36mOpsMixin.__sub__\u001b[0;34m(self, other)\u001b[0m\n\u001b[1;32m    192\u001b[0m \u001b[38;5;129m@unpack_zerodim_and_defer\u001b[39m(\u001b[38;5;124m\"\u001b[39m\u001b[38;5;124m__sub__\u001b[39m\u001b[38;5;124m\"\u001b[39m)\n\u001b[1;32m    193\u001b[0m \u001b[38;5;28;01mdef\u001b[39;00m \u001b[38;5;21m__sub__\u001b[39m(\u001b[38;5;28mself\u001b[39m, other):\n\u001b[0;32m--> 194\u001b[0m     \u001b[38;5;28;01mreturn\u001b[39;00m \u001b[38;5;28mself\u001b[39m\u001b[38;5;241m.\u001b[39m_arith_method(other, operator\u001b[38;5;241m.\u001b[39msub)\n",
      "File \u001b[0;32m/opt/anaconda3/lib/python3.12/site-packages/pandas/core/series.py:6135\u001b[0m, in \u001b[0;36mSeries._arith_method\u001b[0;34m(self, other, op)\u001b[0m\n\u001b[1;32m   6133\u001b[0m \u001b[38;5;28;01mdef\u001b[39;00m \u001b[38;5;21m_arith_method\u001b[39m(\u001b[38;5;28mself\u001b[39m, other, op):\n\u001b[1;32m   6134\u001b[0m     \u001b[38;5;28mself\u001b[39m, other \u001b[38;5;241m=\u001b[39m \u001b[38;5;28mself\u001b[39m\u001b[38;5;241m.\u001b[39m_align_for_op(other)\n\u001b[0;32m-> 6135\u001b[0m     \u001b[38;5;28;01mreturn\u001b[39;00m base\u001b[38;5;241m.\u001b[39mIndexOpsMixin\u001b[38;5;241m.\u001b[39m_arith_method(\u001b[38;5;28mself\u001b[39m, other, op)\n",
      "File \u001b[0;32m/opt/anaconda3/lib/python3.12/site-packages/pandas/core/base.py:1382\u001b[0m, in \u001b[0;36mIndexOpsMixin._arith_method\u001b[0;34m(self, other, op)\u001b[0m\n\u001b[1;32m   1379\u001b[0m     rvalues \u001b[38;5;241m=\u001b[39m np\u001b[38;5;241m.\u001b[39marange(rvalues\u001b[38;5;241m.\u001b[39mstart, rvalues\u001b[38;5;241m.\u001b[39mstop, rvalues\u001b[38;5;241m.\u001b[39mstep)\n\u001b[1;32m   1381\u001b[0m \u001b[38;5;28;01mwith\u001b[39;00m np\u001b[38;5;241m.\u001b[39merrstate(\u001b[38;5;28mall\u001b[39m\u001b[38;5;241m=\u001b[39m\u001b[38;5;124m\"\u001b[39m\u001b[38;5;124mignore\u001b[39m\u001b[38;5;124m\"\u001b[39m):\n\u001b[0;32m-> 1382\u001b[0m     result \u001b[38;5;241m=\u001b[39m ops\u001b[38;5;241m.\u001b[39marithmetic_op(lvalues, rvalues, op)\n\u001b[1;32m   1384\u001b[0m \u001b[38;5;28;01mreturn\u001b[39;00m \u001b[38;5;28mself\u001b[39m\u001b[38;5;241m.\u001b[39m_construct_result(result, name\u001b[38;5;241m=\u001b[39mres_name)\n",
      "File \u001b[0;32m/opt/anaconda3/lib/python3.12/site-packages/pandas/core/ops/array_ops.py:283\u001b[0m, in \u001b[0;36marithmetic_op\u001b[0;34m(left, right, op)\u001b[0m\n\u001b[1;32m    279\u001b[0m     _bool_arith_check(op, left, right)  \u001b[38;5;66;03m# type: ignore[arg-type]\u001b[39;00m\n\u001b[1;32m    281\u001b[0m     \u001b[38;5;66;03m# error: Argument 1 to \"_na_arithmetic_op\" has incompatible type\u001b[39;00m\n\u001b[1;32m    282\u001b[0m     \u001b[38;5;66;03m# \"Union[ExtensionArray, ndarray[Any, Any]]\"; expected \"ndarray[Any, Any]\"\u001b[39;00m\n\u001b[0;32m--> 283\u001b[0m     res_values \u001b[38;5;241m=\u001b[39m _na_arithmetic_op(left, right, op)  \u001b[38;5;66;03m# type: ignore[arg-type]\u001b[39;00m\n\u001b[1;32m    285\u001b[0m \u001b[38;5;28;01mreturn\u001b[39;00m res_values\n",
      "File \u001b[0;32m/opt/anaconda3/lib/python3.12/site-packages/pandas/core/ops/array_ops.py:218\u001b[0m, in \u001b[0;36m_na_arithmetic_op\u001b[0;34m(left, right, op, is_cmp)\u001b[0m\n\u001b[1;32m    215\u001b[0m     func \u001b[38;5;241m=\u001b[39m partial(expressions\u001b[38;5;241m.\u001b[39mevaluate, op)\n\u001b[1;32m    217\u001b[0m \u001b[38;5;28;01mtry\u001b[39;00m:\n\u001b[0;32m--> 218\u001b[0m     result \u001b[38;5;241m=\u001b[39m func(left, right)\n\u001b[1;32m    219\u001b[0m \u001b[38;5;28;01mexcept\u001b[39;00m \u001b[38;5;167;01mTypeError\u001b[39;00m:\n\u001b[1;32m    220\u001b[0m     \u001b[38;5;28;01mif\u001b[39;00m \u001b[38;5;129;01mnot\u001b[39;00m is_cmp \u001b[38;5;129;01mand\u001b[39;00m (\n\u001b[1;32m    221\u001b[0m         left\u001b[38;5;241m.\u001b[39mdtype \u001b[38;5;241m==\u001b[39m \u001b[38;5;28mobject\u001b[39m \u001b[38;5;129;01mor\u001b[39;00m \u001b[38;5;28mgetattr\u001b[39m(right, \u001b[38;5;124m\"\u001b[39m\u001b[38;5;124mdtype\u001b[39m\u001b[38;5;124m\"\u001b[39m, \u001b[38;5;28;01mNone\u001b[39;00m) \u001b[38;5;241m==\u001b[39m \u001b[38;5;28mobject\u001b[39m\n\u001b[1;32m    222\u001b[0m     ):\n\u001b[0;32m   (...)\u001b[0m\n\u001b[1;32m    225\u001b[0m         \u001b[38;5;66;03m# Don't do this for comparisons, as that will handle complex numbers\u001b[39;00m\n\u001b[1;32m    226\u001b[0m         \u001b[38;5;66;03m#  incorrectly, see GH#32047\u001b[39;00m\n",
      "File \u001b[0;32m/opt/anaconda3/lib/python3.12/site-packages/pandas/core/computation/expressions.py:242\u001b[0m, in \u001b[0;36mevaluate\u001b[0;34m(op, a, b, use_numexpr)\u001b[0m\n\u001b[1;32m    239\u001b[0m \u001b[38;5;28;01mif\u001b[39;00m op_str \u001b[38;5;129;01mis\u001b[39;00m \u001b[38;5;129;01mnot\u001b[39;00m \u001b[38;5;28;01mNone\u001b[39;00m:\n\u001b[1;32m    240\u001b[0m     \u001b[38;5;28;01mif\u001b[39;00m use_numexpr:\n\u001b[1;32m    241\u001b[0m         \u001b[38;5;66;03m# error: \"None\" not callable\u001b[39;00m\n\u001b[0;32m--> 242\u001b[0m         \u001b[38;5;28;01mreturn\u001b[39;00m _evaluate(op, op_str, a, b)  \u001b[38;5;66;03m# type: ignore[misc]\u001b[39;00m\n\u001b[1;32m    243\u001b[0m \u001b[38;5;28;01mreturn\u001b[39;00m _evaluate_standard(op, op_str, a, b)\n",
      "File \u001b[0;32m/opt/anaconda3/lib/python3.12/site-packages/pandas/core/computation/expressions.py:131\u001b[0m, in \u001b[0;36m_evaluate_numexpr\u001b[0;34m(op, op_str, a, b)\u001b[0m\n\u001b[1;32m    128\u001b[0m     _store_test_result(result \u001b[38;5;129;01mis\u001b[39;00m \u001b[38;5;129;01mnot\u001b[39;00m \u001b[38;5;28;01mNone\u001b[39;00m)\n\u001b[1;32m    130\u001b[0m \u001b[38;5;28;01mif\u001b[39;00m result \u001b[38;5;129;01mis\u001b[39;00m \u001b[38;5;28;01mNone\u001b[39;00m:\n\u001b[0;32m--> 131\u001b[0m     result \u001b[38;5;241m=\u001b[39m _evaluate_standard(op, op_str, a, b)\n\u001b[1;32m    133\u001b[0m \u001b[38;5;28;01mreturn\u001b[39;00m result\n",
      "File \u001b[0;32m/opt/anaconda3/lib/python3.12/site-packages/pandas/core/computation/expressions.py:73\u001b[0m, in \u001b[0;36m_evaluate_standard\u001b[0;34m(op, op_str, a, b)\u001b[0m\n\u001b[1;32m     71\u001b[0m \u001b[38;5;28;01mif\u001b[39;00m _TEST_MODE:\n\u001b[1;32m     72\u001b[0m     _store_test_result(\u001b[38;5;28;01mFalse\u001b[39;00m)\n\u001b[0;32m---> 73\u001b[0m \u001b[38;5;28;01mreturn\u001b[39;00m op(a, b)\n",
      "\u001b[0;31mTypeError\u001b[0m: unsupported operand type(s) for -: 'int' and 'NoneType'"
     ]
    }
   ],
   "source": [
    "def solve_PHOV(house_type, commute_type, hhincome, hascar, age_category, is_working):\n",
    "    schedule_temp = schedule_temp_data_by_person(\n",
    "        commute_type, \n",
    "        inside_temp_data=inside_temp_data(house_type),\n",
    "    )\n",
    "    temp = vectorize_min(schedule_temp, temp_outside - shade_temp_amount(house_type))\n",
    "    heat_danger = heat_danger_continuous(heatIndex(temp, relative_humidity))\n",
    "    #return age_risk(age_category) * demographic_restorative_coefficient(hhincome) * integral of heat_danger_continuous(heatIndex(temp, relative_humidity))\n",
    "\n",
    "solve_PHOV(samps[1], samps[3], samps[4], samps[6], samps[5][0], samps[7][0])\n"
   ]
  },
  {
   "cell_type": "code",
   "execution_count": null,
   "metadata": {},
   "outputs": [],
   "source": [
    "def solve_HOV(house_type, ):\n",
    "    x = [0 for i in range(24)]\n",
    "    for i in house_size():\n",
    "        x = vectorize_sum(x, solve_PHOV(house_type, commute_type, hhincome, age_category))\n",
    "    return x"
   ]
  },
  {
   "cell_type": "code",
   "execution_count": null,
   "metadata": {},
   "outputs": [
    {
     "data": {
      "text/plain": [
       "0"
      ]
     },
     "execution_count": 4,
     "metadata": {},
     "output_type": "execute_result"
    }
   ],
   "source": []
  }
 ],
 "metadata": {
  "kernelspec": {
   "display_name": "base",
   "language": "python",
   "name": "python3"
  },
  "language_info": {
   "codemirror_mode": {
    "name": "ipython",
    "version": 3
   },
   "file_extension": ".py",
   "mimetype": "text/x-python",
   "name": "python",
   "nbconvert_exporter": "python",
   "pygments_lexer": "ipython3",
   "version": "3.12.4"
  }
 },
 "nbformat": 4,
 "nbformat_minor": 2
}
